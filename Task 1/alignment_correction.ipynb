{
 "cells": [
  {
   "cell_type": "code",
   "execution_count": 1,
   "metadata": {},
   "outputs": [],
   "source": [
    "import numpy as np\n",
    "import cv2\n",
    "import math\n",
    "import os\n",
    "from scipy import ndimage"
   ]
  },
  {
   "cell_type": "code",
   "execution_count": 26,
   "metadata": {},
   "outputs": [],
   "source": [
    "img_dir = r'C:\\Users\\Rashi Budati\\Downloads\\Docsumo\\misaligned_images\\misaligned_images'"
   ]
  },
  {
   "cell_type": "code",
   "execution_count": 27,
   "metadata": {},
   "outputs": [],
   "source": [
    "rotated_images = r'C:\\Users\\Rashi Budati\\Downloads\\Docsumo\\misaligned_images\\aligned_images'"
   ]
  },
  {
   "cell_type": "code",
   "execution_count": 28,
   "metadata": {},
   "outputs": [],
   "source": [
    "def image_rotate_detect(img_path, img_filename):\n",
    "    img_before = cv2.imread(img_path)\n",
    "    print(img_path)\n",
    "    img_gray = cv2.cvtColor(img_before, cv2.COLOR_BGR2GRAY)\n",
    "    img_edges = cv2.Canny(img_gray, 100, 100, apertureSize=3)\n",
    "    lines = cv2.HoughLinesP(img_edges, 1, math.pi / 180.0, 100, minLineLength=100, maxLineGap=5)\n",
    "\n",
    "    angles = []\n",
    "\n",
    "    for [[x1, y1, x2, y2]] in lines:\n",
    "        cv2.line(img_before, (x1, y1), (x2, y2), (255, 0, 0), 3)\n",
    "        angle = math.degrees(math.atan2(y2 - y1, x2 - x1))\n",
    "        angles.append(angle)\n",
    "\n",
    "#     median_angle = np.median(angles)\n",
    "    angles = sorted(angles, key=lambda x: abs(x))\n",
    "    if len(angles)%2:\n",
    "        median_angle = angles[len(angles)//2]\n",
    "    else:\n",
    "        median_angle = angles[(len(angles)//2)-1]\n",
    "\n",
    "    print(f\"Angle is {median_angle:.04f}\")\n",
    "    cv2.imwrite(os.path.join(rotated_images,img_filename), ndimage.rotate(cv2.imread(img_path), median_angle, cval=255))  "
   ]
  },
  {
   "cell_type": "code",
   "execution_count": 29,
   "metadata": {},
   "outputs": [
    {
     "name": "stdout",
     "output_type": "stream",
     "text": [
      "C:\\Users\\Rashi Budati\\Downloads\\Docsumo\\misaligned_images\\misaligned_images\\0e27f636242845138158f132878a3351.jpg\n",
      "Angle is 1.6847\n",
      "C:\\Users\\Rashi Budati\\Downloads\\Docsumo\\misaligned_images\\misaligned_images\\0f97914844b786b0d2ef21339286cdf6 - 2.jpg\n",
      "Angle is -3.0128\n",
      "C:\\Users\\Rashi Budati\\Downloads\\Docsumo\\misaligned_images\\misaligned_images\\10.jpg\n",
      "Angle is 4.0042\n",
      "C:\\Users\\Rashi Budati\\Downloads\\Docsumo\\misaligned_images\\misaligned_images\\4.jpg\n",
      "Angle is 1.1458\n",
      "C:\\Users\\Rashi Budati\\Downloads\\Docsumo\\misaligned_images\\misaligned_images\\41.png\n",
      "Angle is 0.8069\n",
      "C:\\Users\\Rashi Budati\\Downloads\\Docsumo\\misaligned_images\\misaligned_images\\5.jpg\n",
      "Angle is -1.6847\n",
      "C:\\Users\\Rashi Budati\\Downloads\\Docsumo\\misaligned_images\\misaligned_images\\5f228310d55c683ed29aa8c0adda7efc.jpg\n",
      "Angle is -90.0000\n",
      "C:\\Users\\Rashi Budati\\Downloads\\Docsumo\\misaligned_images\\misaligned_images\\6 2.jpg\n",
      "Angle is -6.0959\n",
      "C:\\Users\\Rashi Budati\\Downloads\\Docsumo\\misaligned_images\\misaligned_images\\6.jpg\n",
      "Angle is -90.0000\n",
      "C:\\Users\\Rashi Budati\\Downloads\\Docsumo\\misaligned_images\\misaligned_images\\7.jpg\n",
      "Angle is 2.9108\n",
      "C:\\Users\\Rashi Budati\\Downloads\\Docsumo\\misaligned_images\\misaligned_images\\AWT009.jpg\n",
      "Angle is 1.8476\n",
      "C:\\Users\\Rashi Budati\\Downloads\\Docsumo\\misaligned_images\\misaligned_images\\billing-invoice-for-legal-services.jpg\n",
      "Angle is -3.7084\n",
      "C:\\Users\\Rashi Budati\\Downloads\\Docsumo\\misaligned_images\\misaligned_images\\law-firm-invoice-template.jpg\n",
      "Angle is -88.4518\n"
     ]
    }
   ],
   "source": [
    "for f in os.listdir(img_dir):\n",
    "    img_path = os.path.join(img_dir,f)\n",
    "    image_rotate_detect(img_path, f)"
   ]
  },
  {
   "cell_type": "code",
   "execution_count": null,
   "metadata": {},
   "outputs": [],
   "source": []
  }
 ],
 "metadata": {
  "kernelspec": {
   "display_name": "Python 3",
   "language": "python",
   "name": "python3"
  },
  "language_info": {
   "codemirror_mode": {
    "name": "ipython",
    "version": 3
   },
   "file_extension": ".py",
   "mimetype": "text/x-python",
   "name": "python",
   "nbconvert_exporter": "python",
   "pygments_lexer": "ipython3",
   "version": "3.8.5"
  }
 },
 "nbformat": 4,
 "nbformat_minor": 4
}
